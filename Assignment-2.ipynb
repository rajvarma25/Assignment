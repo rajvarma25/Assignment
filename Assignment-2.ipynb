{
 "cells": [
  {
   "cell_type": "code",
   "execution_count": 14,
   "id": "f2ec4840",
   "metadata": {},
   "outputs": [
    {
     "name": "stdout",
     "output_type": "stream",
     "text": [
      "Enter the number a:10\n",
      "Enter the number b:20\n",
      "Enter the option:(1.ADD 2.SUB 3.MUL 4.DIV):3\n",
      "200\n"
     ]
    }
   ],
   "source": [
    "# Calculator \n",
    "\n",
    "a = int(input(\"Enter the number a:\"));\n",
    "b = int(input(\"Enter the number b:\"));\n",
    "\n",
    "def add(a,b):\n",
    "    return print(a+b);\n",
    "def sub(a,b):\n",
    "    return print(a-b);\n",
    "def mul(a,b):\n",
    "    return print(a*b);\n",
    "def div(a,b):\n",
    "    return print(a/b);\n",
    "\n",
    "c = int(input(\"Enter the option:(1.ADD 2.SUB 3.MUL 4.DIV):\"));\n",
    "\n",
    "if   c==1:\n",
    "    add(a,b);\n",
    "elif c==2:\n",
    "    sub(a,b);\n",
    "elif c==3:\n",
    "    mul(a,b);\n",
    "else:\n",
    "    div(a,b);\n"
   ]
  },
  {
   "cell_type": "code",
   "execution_count": null,
   "id": "31757e9d",
   "metadata": {},
   "outputs": [],
   "source": []
  }
 ],
 "metadata": {
  "kernelspec": {
   "display_name": "Python 3 (ipykernel)",
   "language": "python",
   "name": "python3"
  },
  "language_info": {
   "codemirror_mode": {
    "name": "ipython",
    "version": 3
   },
   "file_extension": ".py",
   "mimetype": "text/x-python",
   "name": "python",
   "nbconvert_exporter": "python",
   "pygments_lexer": "ipython3",
   "version": "3.9.12"
  }
 },
 "nbformat": 4,
 "nbformat_minor": 5
}
