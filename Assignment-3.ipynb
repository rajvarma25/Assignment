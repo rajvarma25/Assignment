{
 "cells": [
  {
   "cell_type": "markdown",
   "id": "0ae1194b",
   "metadata": {},
   "source": [
    "String Template Class:\n",
    "\n",
    "1>In the String module, Template Class allows us to create simplified syntax for output specification. \n",
    "\n",
    "2>The format uses placeholder names formed by $ with valid Python identifiers (alphanumeric characters and underscores). \n",
    "\n",
    "3>Surrounding the placeholder with braces allows it to be followed by more alphanumeric letters with no intervening spaces. \n",
    "\n",
    "4>Writing $$ creates a single escaped $."
   ]
  },
  {
   "cell_type": "code",
   "execution_count": 3,
   "id": "a4949dac",
   "metadata": {},
   "outputs": [
    {
     "name": "stdout",
     "output_type": "stream",
     "text": [
      "Hi Ram, you have got 90 marks\n",
      "Hi Ankit, you have got 78 marks\n",
      "Hi Bob, you have got 92 marks\n"
     ]
    }
   ],
   "source": [
    "# A Python program to demonstrate the working of the string template\n",
    "\n",
    "from string import Template\n",
    " \n",
    "# List Student stores the name and marks of three students\n",
    "\n",
    "Student = [('Ram',90), ('Ankit',78), ('Bob',92)]\n",
    " \n",
    "# We are creating a basic structure to print the name and marks of the students.\n",
    "\n",
    "t = Template('Hi $name, you have got $marks marks')\n",
    " \n",
    "for i in Student:\n",
    "\n",
    "    print (t.substitute(name = i[0], marks = i[1]))"
   ]
  },
  {
   "cell_type": "markdown",
   "id": "cfc88d3d",
   "metadata": {},
   "source": [
    "BMI CALCULATOR USING PYTHON:"
   ]
  },
  {
   "cell_type": "code",
   "execution_count": 16,
   "id": "d3f61fbf",
   "metadata": {},
   "outputs": [
    {
     "name": "stdout",
     "output_type": "stream",
     "text": [
      "Your weight in kg:100\n",
      "Your Height in m:0.2\n",
      "You are having a BMI of:2499.9999999999995\n",
      "You are obese\n"
     ]
    }
   ],
   "source": [
    "w = float(input(\"Your weight in kg:\"))\n",
    "h = float(input(\"Your Height in m:\"))\n",
    "\n",
    "\n",
    "bmi = w/(h*h)\n",
    "\n",
    "print(\"You are having a BMI of:{a}\".format(a=bmi))\n",
    "\n",
    "if bmi <= 18.4 :\n",
    "    print(\"You are underweight\");\n",
    "\n",
    "elif bmi >= 18.4 and bmi <= 24.9:\n",
    "    print(\"You are normal\");\n",
    "\n",
    "elif bmi >= 25.0 and bmi <= 39.9:\n",
    "    print(\"You are overweight\");\n",
    "\n",
    "elif bmi>=40 :\n",
    "    print(\"You are obese\");\n",
    "\n",
    "else:\n",
    "    print(\"Input Error\");"
   ]
  }
 ],
 "metadata": {
  "kernelspec": {
   "display_name": "Python 3 (ipykernel)",
   "language": "python",
   "name": "python3"
  },
  "language_info": {
   "codemirror_mode": {
    "name": "ipython",
    "version": 3
   },
   "file_extension": ".py",
   "mimetype": "text/x-python",
   "name": "python",
   "nbconvert_exporter": "python",
   "pygments_lexer": "ipython3",
   "version": "3.9.12"
  }
 },
 "nbformat": 4,
 "nbformat_minor": 5
}
