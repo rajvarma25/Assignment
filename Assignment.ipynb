{
 "cells": [
  {
   "cell_type": "code",
   "execution_count": 1,
   "id": "83a4326e",
   "metadata": {},
   "outputs": [
    {
     "name": "stdout",
     "output_type": "stream",
     "text": [
      "['tree', 'oxygen', 'human']\n"
     ]
    }
   ],
   "source": [
    "life = [\"tree\",\"oxygen\",\"human\"]\n",
    "print(life)"
   ]
  },
  {
   "cell_type": "code",
   "execution_count": 4,
   "id": "4f1a6875",
   "metadata": {},
   "outputs": [
    {
     "name": "stdout",
     "output_type": "stream",
     "text": [
      "{'data', 'subclass', 'class', 123, 'tea'}\n",
      "{'data'}\n",
      "None\n"
     ]
    }
   ],
   "source": [
    "set1 ={\"data\",\"class\",123}\n",
    "set2 ={\"subclass\",\"data\",\"tea\"}\n",
    "set3 = set1.union(set2)\n",
    "set4 = set1.intersection(set2)\n",
    "set5 = set1.clear()\n",
    "print(set3)\n",
    "print(set4)\n",
    "print(set5)"
   ]
  },
  {
   "cell_type": "code",
   "execution_count": 6,
   "id": "d10bbb67",
   "metadata": {},
   "outputs": [
    {
     "name": "stdout",
     "output_type": "stream",
     "text": [
      "False\n",
      "True\n",
      "False\n",
      "True\n"
     ]
    }
   ],
   "source": [
    "setx = 11\n",
    "sety = 22\n",
    "print(setx>sety)\n",
    "print(setx<sety)\n",
    "print(setx==sety)\n",
    "print(setx!=sety)"
   ]
  },
  {
   "cell_type": "code",
   "execution_count": 7,
   "id": "4c557c8d",
   "metadata": {},
   "outputs": [
    {
     "name": "stdout",
     "output_type": "stream",
     "text": [
      "['house', 'door', 'windows']\n",
      "<class 'list'>\n",
      "3\n"
     ]
    }
   ],
   "source": [
    "#assignment 1 regarding dict,tuples,list\n",
    "\n",
    "list1 = [\"house\",\"door\",\"windows\"]\n",
    "print(list1)\n",
    "\n",
    "# to know the type of list\n",
    "print(type(list1))\n",
    "\n",
    "# to know the length of list\n",
    "print(len(list1))"
   ]
  },
  {
   "cell_type": "code",
   "execution_count": 8,
   "id": "d5fb8bc0",
   "metadata": {},
   "outputs": [
    {
     "name": "stdout",
     "output_type": "stream",
     "text": [
      "['house', 'door', 'windows', 'floor']\n"
     ]
    }
   ],
   "source": [
    "#addition of item in the list1\n",
    "list1.append(\"floor\")\n",
    "print(list1)"
   ]
  },
  {
   "cell_type": "code",
   "execution_count": 21,
   "id": "3a4cd53c",
   "metadata": {},
   "outputs": [
    {
     "name": "stdout",
     "output_type": "stream",
     "text": [
      "['house', 'door', 'windows']\n",
      "['door', 'windows']\n",
      "['windows']\n"
     ]
    }
   ],
   "source": [
    "list1 = [\"house\",\"door\",\"windows\"]\n",
    "print(list1)\n",
    "\n",
    "#remove of item in the list1\n",
    "list1.remove(\"house\")\n",
    "print(list1)\n",
    "\n",
    "#using the pop method \n",
    "list1.pop(0)\n",
    "print(list1)"
   ]
  },
  {
   "cell_type": "code",
   "execution_count": 22,
   "id": "295773a7",
   "metadata": {},
   "outputs": [
    {
     "name": "stdout",
     "output_type": "stream",
     "text": [
      "{'internet', 'hello world', 'CSS', 'HTML'}\n"
     ]
    }
   ],
   "source": [
    "#now creating list using curly braces\n",
    "\n",
    "mylist1 = {\"hello world\",\"internet\",\"HTML\",\"CSS\"}\n",
    "print(mylist1)\n",
    "\n",
    "#type of the list \n",
    "print()"
   ]
  },
  {
   "cell_type": "code",
   "execution_count": 27,
   "id": "6c846780",
   "metadata": {},
   "outputs": [
    {
     "name": "stdout",
     "output_type": "stream",
     "text": [
      "['banana', 'kiwi', 'mango', 'orange', 'pineapple']\n",
      "['pineapple', 'orange', 'mango', 'kiwi', 'banana']\n",
      "[10, 23, 34, 56, 100]\n"
     ]
    }
   ],
   "source": [
    "#arranging the list using sort\n",
    "thislist = [\"orange\", \"mango\", \"kiwi\", \"pineapple\", \"banana\"]\n",
    "thislist.sort()\n",
    "print(thislist)\n",
    "\n",
    "#reversing the order\n",
    "thislist.sort(reverse=True)\n",
    "print(thislist)\n",
    "\n",
    "list2 = [100,34,23,10,56]\n",
    "list2.sort()\n",
    "print(list2)\n"
   ]
  },
  {
   "cell_type": "code",
   "execution_count": null,
   "id": "8726850c",
   "metadata": {},
   "outputs": [],
   "source": []
  }
 ],
 "metadata": {
  "kernelspec": {
   "display_name": "Python 3 (ipykernel)",
   "language": "python",
   "name": "python3"
  },
  "language_info": {
   "codemirror_mode": {
    "name": "ipython",
    "version": 3
   },
   "file_extension": ".py",
   "mimetype": "text/x-python",
   "name": "python",
   "nbconvert_exporter": "python",
   "pygments_lexer": "ipython3",
   "version": "3.9.12"
  }
 },
 "nbformat": 4,
 "nbformat_minor": 5
}
